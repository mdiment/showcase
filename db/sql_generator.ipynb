{
 "cells": [
  {
   "cell_type": "code",
   "execution_count": 189,
   "id": "140b6f5e",
   "metadata": {},
   "outputs": [],
   "source": [
    "from datetime import datetime\n",
    "from datetime import date\n",
    "# import datetime\n",
    "import random\n",
    "\n",
    "social_statuses = ['student', 'adult', 'retired', 'oldman', 'pupil', 'unemployed']\n",
    "surnames = ['Smith', 'Craig', 'Wang', 'Devi', 'Ivanov', 'Kim', 'Ali', 'Garcia', 'Muller']\n",
    "names = ['James', 'Mary', 'Robert', 'Patricia', 'John', 'Jennifer', 'Misha', 'Kate', 'Viktor']\n",
    "statuses = ['serious', 'average', 'discharged', 'coma', 'death']\n",
    "diagnoses = ['cough', 'runny nose', 'broken bone', 'stomach ache', 'bleeding', 'heart disease', 'schizophrenia']\n",
    "specializatiions = ['eye', 'ear', 'surgeon', 'therapist', 'kids', 'dermatologist', 'psychiatrist']\n",
    "treatments_amount = 1000000\n",
    "hospitals_amount = 1000010\n",
    "policy_max = 10**8 - 1"
   ]
  },
  {
   "cell_type": "code",
   "execution_count": 186,
   "id": "ee035a03",
   "metadata": {},
   "outputs": [
    {
     "name": "stdout",
     "output_type": "stream",
     "text": [
      "2020-05-07\n"
     ]
    }
   ],
   "source": [
    "def str_time_prop(start, end, time_format, prop):\n",
    "    stime = datetime.strptime(start, '%Y-%m-%d')\n",
    "    etime = datetime.strptime(end, '%Y-%m-%d')\n",
    "\n",
    "    ptime = stime + prop * (etime - stime)\n",
    "\n",
    "    return ptime.strftime('%Y-%m-%d')\n",
    "\n",
    "\n",
    "def random_date(prop, start = \"1950-1-1\", end = datetime.now().strftime('%Y-%m-%d')):\n",
    "    return str_time_prop(start, end, '%Y-%m-%d', prop)\n",
    "    \n",
    "print(random_date(random.random()))"
   ]
  },
  {
   "cell_type": "code",
   "execution_count": 104,
   "id": "a4336ab3",
   "metadata": {},
   "outputs": [
    {
     "name": "stdout",
     "output_type": "stream",
     "text": [
      "status  'adult'\n",
      "fio  'Patricia Kim'\n",
      "birth_date  '1999-12-12'\n"
     ]
    }
   ],
   "source": [
    "social_status = '\\'' + social_statuses[random.randint(0, len(social_statuses) - 1)] + '\\''\n",
    "fio = '\\'' +  names[random.randint(0, len(names) - 1)] + ' ' + surnames[random.randint(0, len(surnames) - 1)] + '\\''\n",
    "birth_date = '\\'' + random_date(random.random()) + '\\''\n",
    "print('status ', status)\n",
    "print('fio ', fio)\n",
    "print('birth_date ', birth_date)"
   ]
  },
  {
   "cell_type": "code",
   "execution_count": 225,
   "id": "41f40608",
   "metadata": {},
   "outputs": [],
   "source": [
    "# patients\n",
    "f = open('lr3_part.sql', 'w+')\n",
    "\n",
    "n = 10**7\n",
    "f.write(\"INSERT INTO patients (patient_id, treatment_id, hospital_id, birth_date, fio, \\\"policy\\\", social_status) values\")\n",
    "for i in range(n):\n",
    "    social_status = '\\'' + social_statuses[random.randint(0, len(social_statuses) - 1)] + '\\''\n",
    "    fio = '\\'' +  names[random.randint(0, len(names) - 1)] + ' ' + surnames[random.randint(0, len(surnames) - 1)] + '\\''\n",
    "    birth_date = '\\'' + random_date(random.random()) + '\\''\n",
    "    treatment_id = random.randint(0, treatments_amount - 1)\n",
    "    hospital_id = random.randint(0, hospitals_amount - 1)\n",
    "    policy = random.randint(1, policy_max)\n",
    "    f.write(f\"({i + 1000000}, {treatment_id}, {hospital_id}, {birth_date}, {fio}, {policy}, {social_status})\")\n",
    "    if i !=n-1:\n",
    "        f.write(',')\n",
    "    else:\n",
    "        f.write(';')\n",
    "        \n",
    "f.close()"
   ]
  },
  {
   "cell_type": "code",
   "execution_count": 214,
   "id": "4031c2ce",
   "metadata": {},
   "outputs": [
    {
     "ename": "KeyboardInterrupt",
     "evalue": "",
     "output_type": "error",
     "traceback": [
      "\u001b[1;31m---------------------------------------------------------------------------\u001b[0m",
      "\u001b[1;31mKeyboardInterrupt\u001b[0m                         Traceback (most recent call last)",
      "\u001b[1;32m<ipython-input-214-0a47914b8ffc>\u001b[0m in \u001b[0;36m<module>\u001b[1;34m\u001b[0m\n\u001b[0;32m     14\u001b[0m     \u001b[0mhospital_name\u001b[0m \u001b[1;33m=\u001b[0m \u001b[1;34mf\"hospital №{i}\"\u001b[0m\u001b[1;33m\u001b[0m\u001b[1;33m\u001b[0m\u001b[0m\n\u001b[0;32m     15\u001b[0m     \u001b[0mbudget\u001b[0m \u001b[1;33m=\u001b[0m \u001b[0mbudget_max\u001b[0m \u001b[1;33m*\u001b[0m \u001b[0mrandom\u001b[0m\u001b[1;33m.\u001b[0m\u001b[0mrandom\u001b[0m\u001b[1;33m(\u001b[0m\u001b[1;33m)\u001b[0m\u001b[1;33m\u001b[0m\u001b[1;33m\u001b[0m\u001b[0m\n\u001b[1;32m---> 16\u001b[1;33m     \u001b[0mf\u001b[0m\u001b[1;33m.\u001b[0m\u001b[0mwrite\u001b[0m\u001b[1;33m(\u001b[0m\u001b[1;34mf\"({i}, {region_id}, {floors}, {round(budget, 2)}, \\'bolnitsa #{i}\\')\"\u001b[0m\u001b[1;33m)\u001b[0m\u001b[1;33m\u001b[0m\u001b[1;33m\u001b[0m\u001b[0m\n\u001b[0m\u001b[0;32m     17\u001b[0m     \u001b[1;32mif\u001b[0m \u001b[0mi\u001b[0m \u001b[1;33m!=\u001b[0m\u001b[0mn\u001b[0m\u001b[1;33m-\u001b[0m\u001b[1;36m1\u001b[0m\u001b[1;33m:\u001b[0m\u001b[1;33m\u001b[0m\u001b[1;33m\u001b[0m\u001b[0m\n\u001b[0;32m     18\u001b[0m         \u001b[0mf\u001b[0m\u001b[1;33m.\u001b[0m\u001b[0mwrite\u001b[0m\u001b[1;33m(\u001b[0m\u001b[1;34m','\u001b[0m\u001b[1;33m)\u001b[0m\u001b[1;33m\u001b[0m\u001b[1;33m\u001b[0m\u001b[0m\n",
      "\u001b[1;31mKeyboardInterrupt\u001b[0m: "
     ]
    }
   ],
   "source": [
    "# hospitals\n",
    "\n",
    "floors_max = 99\n",
    "regions_amount = 10\n",
    "budget_max = 10**6\n",
    "\n",
    "f = open('lr3.sql', 'w+')\n",
    "n = hospitals_amount\n",
    "f.write(\"INSERT INTO hospitals (hospital_id, region_id, floors, budget, hospital_name) values\")\n",
    "for i in range(n):\n",
    "    floors = random.randint(1, floors_max)\n",
    "    region_id = random.randint(1, regions_amount)\n",
    "    policy = random.randint(1, policy_max)\n",
    "    hospital_name = f\"hospital №{i}\"\n",
    "    budget = budget_max * random.random()\n",
    "    f.write(f\"({i}, {region_id}, {floors}, {round(budget, 2)}, \\'bolnitsa #{i}\\')\")\n",
    "    if i !=n-1:\n",
    "        f.write(',')\n",
    "    else:\n",
    "        f.write(';')\n",
    "        \n",
    "f.close()"
   ]
  },
  {
   "cell_type": "code",
   "execution_count": 223,
   "id": "a5feee47",
   "metadata": {},
   "outputs": [
    {
     "data": {
      "text/plain": [
       "400000000000"
      ]
     },
     "execution_count": 223,
     "metadata": {},
     "output_type": "execute_result"
    }
   ],
   "source": [
    "round(random.randint(1,10)*10**11, 2)"
   ]
  },
  {
   "cell_type": "code",
   "execution_count": 178,
   "id": "e19275b0",
   "metadata": {},
   "outputs": [
    {
     "name": "stdout",
     "output_type": "stream",
     "text": [
      "1983-10-24\n",
      "2003-03-02\n"
     ]
    }
   ],
   "source": [
    "begin_date = random_date(random.random())\n",
    "end_date = random_date(random.random(), begin_date, datetime(2023,1,1).strftime('%Y-%m-%d'))\n",
    "print(begin_date)\n",
    "print(end_date)"
   ]
  },
  {
   "cell_type": "code",
   "execution_count": 187,
   "id": "29337c37",
   "metadata": {},
   "outputs": [],
   "source": [
    "# treatments\n",
    "\n",
    "f = open('lr3.sql', 'w+')\n",
    "n = treatments_amount\n",
    "f.write(\"insert into treatments (treatment_id, begin_date, end_date, diagnosis, status) values\")\n",
    "for i in range(n):\n",
    "    status = '\\'' + statuses[random.randint(0, len(statuses) - 1)] + '\\''\n",
    "    diagnosis = '\\'' + diagnoses[random.randint(0, len(diagnoses) - 1)] + '\\''\n",
    "    begin_date = random_date(random.random())\n",
    "    end_date = random_date(random.random(), begin_date, datetime(2023,1,1).strftime('%Y-%m-%d'))\n",
    "    f.write(f\"({i}, \\'{begin_date}\\', \\'{end_date}\\', {diagnosis}, {status})\")\n",
    "    if i !=n-1:\n",
    "        f.write(',')\n",
    "    else:\n",
    "        f.write(';')\n",
    "        \n",
    "f.close()"
   ]
  },
  {
   "cell_type": "code",
   "execution_count": 198,
   "id": "3bdada70",
   "metadata": {},
   "outputs": [],
   "source": [
    "# doctors\n",
    "\n",
    "experience_max = 100\n",
    "\n",
    "f = open('lr3.sql', 'w+')\n",
    "n = 10**6\n",
    "f.write(\"insert into doctors (doctor_id, treatment_id, hospital_id, specialization, fio, experience) values \")\n",
    "for i in range(n):\n",
    "    treatment_id = random.randint(0, treatments_amount-1)\n",
    "    hospital_id = random.randint(0, hospitals_amount-1)\n",
    "    specialization = '\\'' + specializatiions[random.randint(0, len(specializatiions) - 1)] + '\\''\n",
    "    fio = '\\'{\"' +  names[random.randint(0, len(names) - 1)] + '\", \"' + surnames[random.randint(0, len(surnames) - 1)] + '\"}\\''\n",
    "    experience = experience_max * random.random()+0.1\n",
    "    f.write(f\"({i}, {treatment_id}, {hospital_id}, {specialization}, {fio}, {round(experience, 2)})\")\n",
    "    if i !=n-1:\n",
    "        f.write(',')\n",
    "    else:\n",
    "        f.write(';')\n",
    "        \n",
    "f.close()"
   ]
  },
  {
   "cell_type": "code",
   "execution_count": null,
   "id": "0a1cea34",
   "metadata": {},
   "outputs": [],
   "source": []
  }
 ],
 "metadata": {
  "kernelspec": {
   "display_name": "Python 3",
   "language": "python",
   "name": "python3"
  },
  "language_info": {
   "codemirror_mode": {
    "name": "ipython",
    "version": 3
   },
   "file_extension": ".py",
   "mimetype": "text/x-python",
   "name": "python",
   "nbconvert_exporter": "python",
   "pygments_lexer": "ipython3",
   "version": "3.8.8"
  }
 },
 "nbformat": 4,
 "nbformat_minor": 5
}
