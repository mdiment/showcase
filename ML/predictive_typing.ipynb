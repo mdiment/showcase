{
 "cells": [
  {
   "cell_type": "code",
   "execution_count": 1,
   "id": "a84a4559",
   "metadata": {
    "id": "a84a4559"
   },
   "outputs": [],
   "source": [
    "from multiprocess import Pool\n",
    "from typing import List, Dict, Tuple, Callable, Iterable\n",
    "\n",
    "import numpy as np\n",
    "import pandas as pd\n",
    "from tqdm import tqdm_notebook\n",
    "from sklearn.model_selection import train_test_split"
   ]
  },
  {
   "cell_type": "code",
   "execution_count": 2,
   "id": "9bcbcccb",
   "metadata": {
    "id": "9bcbcccb"
   },
   "outputs": [],
   "source": [
    "import re\n",
    "import nltk\n",
    "from collections import Counter, defaultdict\n",
    "import matplotlib.pyplot as plt\n",
    "plt.style.use('ggplot')"
   ]
  },
  {
   "cell_type": "markdown",
   "id": "038839e2",
   "metadata": {
    "id": "038839e2"
   },
   "source": [
    "Uncomment if you are using colab"
   ]
  },
  {
   "cell_type": "code",
   "execution_count": 3,
   "id": "86e79222",
   "metadata": {
    "colab": {
     "base_uri": "https://localhost:8080/"
    },
    "id": "86e79222",
    "outputId": "34e3baf7-9d15-49aa-b97f-01c4e6c33487"
   },
   "outputs": [],
   "source": [
    "# !mkdir ./data\n",
    "# !wget https://raw.githubusercontent.com/vadim0912/MLIntro2021/main/lecture08/data/train.csv.zip -O ./data/train.csv.zip\n",
    "# !wget https://raw.githubusercontent.com/vadim0912/MLIntro2021/main/lecture08/data/test.csv.zip -O ./data/test.csv.zip"
   ]
  },
  {
   "cell_type": "markdown",
   "id": "Dj5oYlDQjt5C",
   "metadata": {
    "id": "Dj5oYlDQjt5C"
   },
   "source": [
    "Я просто попытался в лоб решить, посчитал вероятности встречаемости для 2х и 3х слов идущих вместе, потом проходил по тестовому датафрейму, и подбирал самые вероятные слова с подходящим префиксом, сначала в модели для 2х слов, а если таких не было, то подбирал по последнему слову и префиксу, а если и там не находил, то просто ставил самое часто встречающаееся слово с таким префиксом. Никакой регрессии, никакого градиентного спуска, никакой кластеризации по языкам, наверное поэтому так долго считается..."
   ]
  },
  {
   "cell_type": "code",
   "execution_count": 4,
   "id": "fda358f8",
   "metadata": {
    "id": "fda358f8"
   },
   "outputs": [],
   "source": [
    "df = pd.read_csv(\"./data/train.csv.zip\")"
   ]
  },
  {
   "cell_type": "code",
   "execution_count": 5,
   "id": "cd537683",
   "metadata": {
    "colab": {
     "base_uri": "https://localhost:8080/",
     "height": 206
    },
    "id": "cd537683",
    "outputId": "44e69639-1ee2-4dac-f678-73699ed0a23c"
   },
   "outputs": [
    {
     "data": {
      "text/html": [
       "<div>\n",
       "<style scoped>\n",
       "    .dataframe tbody tr th:only-of-type {\n",
       "        vertical-align: middle;\n",
       "    }\n",
       "\n",
       "    .dataframe tbody tr th {\n",
       "        vertical-align: top;\n",
       "    }\n",
       "\n",
       "    .dataframe thead th {\n",
       "        text-align: right;\n",
       "    }\n",
       "</style>\n",
       "<table border=\"1\" class=\"dataframe\">\n",
       "  <thead>\n",
       "    <tr style=\"text-align: right;\">\n",
       "      <th></th>\n",
       "      <th>sentence</th>\n",
       "      <th>language</th>\n",
       "    </tr>\n",
       "  </thead>\n",
       "  <tbody>\n",
       "    <tr>\n",
       "      <th>0</th>\n",
       "      <td>После увольнения я решил собрать своих друзей ...</td>\n",
       "      <td>ru</td>\n",
       "    </tr>\n",
       "    <tr>\n",
       "      <th>1</th>\n",
       "      <td>Ты знаешь , что это не гнев заставил моё сердц...</td>\n",
       "      <td>ru</td>\n",
       "    </tr>\n",
       "    <tr>\n",
       "      <th>2</th>\n",
       "      <td>Просто има толкова много други хора в пъпа ти ...</td>\n",
       "      <td>bg</td>\n",
       "    </tr>\n",
       "    <tr>\n",
       "      <th>3</th>\n",
       "      <td>Ради всех имён , которые я никогда не узнаю , ...</td>\n",
       "      <td>ru</td>\n",
       "    </tr>\n",
       "    <tr>\n",
       "      <th>4</th>\n",
       "      <td>Ми пропускаємо найважливіші для нас речі . Най...</td>\n",
       "      <td>uk</td>\n",
       "    </tr>\n",
       "  </tbody>\n",
       "</table>\n",
       "</div>"
      ],
      "text/plain": [
       "                                            sentence language\n",
       "0  После увольнения я решил собрать своих друзей ...       ru\n",
       "1  Ты знаешь , что это не гнев заставил моё сердц...       ru\n",
       "2  Просто има толкова много други хора в пъпа ти ...       bg\n",
       "3  Ради всех имён , которые я никогда не узнаю , ...       ru\n",
       "4  Ми пропускаємо найважливіші для нас речі . Най...       uk"
      ]
     },
     "execution_count": 5,
     "metadata": {},
     "output_type": "execute_result"
    }
   ],
   "source": [
    "df.head()"
   ]
  },
  {
   "cell_type": "code",
   "execution_count": 6,
   "id": "67b3e361",
   "metadata": {
    "id": "67b3e361"
   },
   "outputs": [],
   "source": [
    "class TrieNode:\n",
    "    \n",
    "    def __init__(self, char: str) -> None:\n",
    "        self.char: str = char\n",
    "        self.is_end: bool = False\n",
    "        self.count: int = 0\n",
    "        self.children: Dict = {}\n",
    "\n",
    "\n",
    "class Trie:\n",
    "\n",
    "    def __init__(self, words: Iterable[str] = None):\n",
    "        self.root = TrieNode(\"\")\n",
    "        \n",
    "        if words:\n",
    "            for word in words:\n",
    "                self.insert(word)\n",
    "        \n",
    "    def insert(self, word: str) -> None:\n",
    "        \n",
    "        node: TrieNode = self.root\n",
    "        \n",
    "        for char in word:\n",
    "            if char in node.children:\n",
    "                node = node.children[char]\n",
    "            else:\n",
    "                new_node: TrieNode = TrieNode(char)\n",
    "                node.children[char] = new_node\n",
    "                node = new_node\n",
    "        node.is_end = True\n",
    "        node.count += 1\n",
    "        \n",
    "    def dfs(self, node, prefix):\n",
    "        \n",
    "        if node.is_end:\n",
    "            self.output.append((prefix + node.char, node.count))\n",
    "            \n",
    "        for child in node.children.values():\n",
    "            self.dfs(child, prefix + node.char)\n",
    "    \n",
    "    def query(self, prefix: str) -> List[Tuple[str, int]]:\n",
    "        \n",
    "        self.output = []\n",
    "        node = self.root\n",
    "        \n",
    "        for char in prefix:\n",
    "            if char in node.children:\n",
    "                node = node.children[char]\n",
    "            else:\n",
    "                return []\n",
    "            \n",
    "        self.dfs(node, prefix[:-1])\n",
    "        \n",
    "        return sorted(self.output, key=lambda x: -x[1])\n"
   ]
  },
  {
   "cell_type": "code",
   "execution_count": 7,
   "id": "e313410a",
   "metadata": {
    "id": "e313410a"
   },
   "outputs": [],
   "source": [
    "trie = Trie(word for sentence in df['sentence'].values for word in sentence.lower().split())"
   ]
  },
  {
   "cell_type": "code",
   "execution_count": 8,
   "id": "fad57228",
   "metadata": {
    "colab": {
     "base_uri": "https://localhost:8080/"
    },
    "id": "fad57228",
    "outputId": "f6b32b83-468d-418a-c086-87d1b38b1d01"
   },
   "outputs": [
    {
     "data": {
      "text/plain": [
       "[]"
      ]
     },
     "execution_count": 8,
     "metadata": {},
     "output_type": "execute_result"
    }
   ],
   "source": [
    "trie.query('шовкогра')"
   ]
  },
  {
   "cell_type": "code",
   "execution_count": 9,
   "id": "714b5238",
   "metadata": {
    "id": "714b5238"
   },
   "outputs": [],
   "source": [
    "test_df = pd.read_csv(\"./data/test.csv.zip\")"
   ]
  },
  {
   "cell_type": "code",
   "execution_count": null,
   "id": "3cb48952",
   "metadata": {
    "id": "3cb48952"
   },
   "outputs": [],
   "source": [
    "def normalize_and_tokenize(text: str) -> List[str]:\n",
    "    text = text.lower().replace('ё', 'е')\n",
    "    text = re.sub(' +', ' ', text).strip()\n",
    "    text = nltk.wordpunct_tokenize(text)\n",
    "    return text"
   ]
  },
  {
   "cell_type": "code",
   "execution_count": null,
   "id": "0f562875",
   "metadata": {
    "id": "0f562875"
   },
   "outputs": [],
   "source": [
    "tokenized_texts = df[\"sentence\"].apply(normalize_and_tokenize).values.tolist()"
   ]
  },
  {
   "cell_type": "code",
   "execution_count": null,
   "id": "ee81d019",
   "metadata": {
    "id": "ee81d019"
   },
   "outputs": [],
   "source": [
    "BOS = '<BOS>'\n",
    "EOS = '<EOS>'\n",
    "\n",
    "ngrams_config = {\n",
    "    \"pad_left\": True,\n",
    "    \"pad_right\": True,\n",
    "    \"left_pad_symbol\": BOS,\n",
    "    \"right_pad_symbol\": EOS\n",
    "}\n",
    "\n",
    "def build_ngram_counts(tokenized_texts: Iterable[Iterable[str]], n: int) -> Dict[Tuple[str, ...], Dict[str, int]]:    \n",
    "    counts = defaultdict(Counter)\n",
    "    for tokens in tokenized_texts:\n",
    "        for ngram in nltk.ngrams(tokens, n=n, **ngrams_config):\n",
    "            prefix, next_token = ngram[:-1], ngram[-1]\n",
    "            counts[prefix][next_token] += 1\n",
    "    \n",
    "    return counts"
   ]
  },
  {
   "cell_type": "code",
   "execution_count": null,
   "id": "ac894253",
   "metadata": {
    "id": "ac894253"
   },
   "outputs": [],
   "source": [
    "class LanguageModel:\n",
    "    \n",
    "    def __init__(self, tokenized_texts: Iterable[Iterable[str]], n: int) -> None:\n",
    "        \n",
    "        self.n: int = n\n",
    "        self.probs: Dict[Tuple[str, ...], Dict[str, float]] = defaultdict(Counter)\n",
    "        \n",
    "        for prefix, distribution in build_ngram_counts(tokenized_texts, n=n).items():\n",
    "            norm = sum(distribution.values())\n",
    "            self.probs[prefix] = Counter({\n",
    "                token: count / norm for token, count in distribution.items()\n",
    "            })\n",
    "            \n",
    "    def get_token_distribution(self, prefix: List[str]) -> Dict[str, float]:\n",
    "        \n",
    "        prefix = prefix[max(0, len(prefix) - self.n + 1):]\n",
    "        prefix = [BOS] * (self.n - 1 - len(prefix)) + prefix\n",
    "        return self.probs[tuple(prefix)]\n",
    "    \n",
    "    def get_next_token_prob(self, prefix: List[str], token: str) -> float:\n",
    "        return self.get_token_distribution(prefix)[token]"
   ]
  },
  {
   "cell_type": "code",
   "execution_count": null,
   "id": "54d32766",
   "metadata": {
    "id": "54d32766"
   },
   "outputs": [],
   "source": [
    "model = LanguageModel(tokenized_texts, n=3)"
   ]
  },
  {
   "cell_type": "code",
   "execution_count": null,
   "id": "61bc5e63",
   "metadata": {
    "id": "61bc5e63"
   },
   "outputs": [],
   "source": [
    "model_one = LanguageModel(tokenized_texts, n =2)"
   ]
  },
  {
   "cell_type": "code",
   "execution_count": null,
   "id": "5a5dd321",
   "metadata": {
    "id": "5a5dd321",
    "scrolled": true
   },
   "outputs": [],
   "source": [
    "def retrieve_last_words(sentence: str) -> List[str]:\n",
    "    sentence = sentence.lower().replace('ё', 'е')\n",
    "    sentence = re.sub(' +', ' ', sentence).strip()\n",
    "    sentence = nltk.wordpunct_tokenize(sentence)\n",
    "    \n",
    "    return sentence[:-4:-1]\n",
    "\n",
    "last_words = test_df[\"prefix\"].apply(retrieve_last_words)\n",
    "\n",
    "tokens = []\n",
    "for words in last_words:\n",
    "    prefix = words[0]\n",
    "    words = [BOS] * (3 - len(words)) + words\n",
    "    data = sorted(model.probs[(words[2], words[1])].items(), key=lambda x: -x[1])\n",
    "    i = 0\n",
    "    size_data = len(data)\n",
    "    while i < size_data and not data[i][0].startswith(prefix):\n",
    "        i += 1\n",
    "    if (i == size_data):\n",
    "        j = 0\n",
    "        data = sorted(model_one.probs[(words[1],)].items(), key=lambda x: -x[1])\n",
    "        size_data = len(data)\n",
    "        while j < size_data and not data[j][0].startswith(prefix):\n",
    "            j += 1\n",
    "        if j == size_data:\n",
    "            if trie.query(prefix):\n",
    "                tokens.append(trie.query(prefix)[0][0])\n",
    "            else:\n",
    "                tokens.append(prefix)\n",
    "        else:\n",
    "            tokens.append(data[j][0])\n",
    "\n",
    "    else:\n",
    "        tokens.append(data[i][0])"
   ]
  },
  {
   "cell_type": "code",
   "execution_count": null,
   "id": "95e2563a",
   "metadata": {
    "colab": {
     "base_uri": "https://localhost:8080/"
    },
    "id": "95e2563a",
    "outputId": "07322ace-4a43-44f9-d604-c7c76fb26e1c"
   },
   "outputs": [
    {
     "name": "stdout",
     "output_type": "stream",
     "text": [
      "Я можу виготовляти на замовлення з допомогою усіх видів модних технологій , в &apos; язання , лазерна нарізка , шовкогра\n",
      "['шовкогра', ',', 'нарізка']\n",
      "шовкогра\n"
     ]
    }
   ],
   "source": [
    "t = 173\n",
    "print(test_df[\"prefix\"][t])\n",
    "print(last_words[t])\n",
    "print(tokens[t])"
   ]
  },
  {
   "cell_type": "code",
   "execution_count": null,
   "id": "dd4cfc8d",
   "metadata": {
    "colab": {
     "base_uri": "https://localhost:8080/"
    },
    "id": "dd4cfc8d",
    "outputId": "ce21d968-ff82-4dea-d35f-e69efce27053"
   },
   "outputs": [
    {
     "data": {
      "text/plain": [
       "266618"
      ]
     },
     "execution_count": 20,
     "metadata": {},
     "output_type": "execute_result"
    }
   ],
   "source": [
    "len(tokens)"
   ]
  },
  {
   "cell_type": "code",
   "execution_count": null,
   "id": "111219bf",
   "metadata": {
    "id": "111219bf"
   },
   "outputs": [],
   "source": [
    "data_for_df = {'index': range(len(tokens)), 'token': tokens}\n",
    "test_prediction_df = pd.DataFrame(data_for_df)"
   ]
  },
  {
   "cell_type": "code",
   "execution_count": null,
   "id": "cdabc80f",
   "metadata": {
    "colab": {
     "base_uri": "https://localhost:8080/",
     "height": 423
    },
    "id": "cdabc80f",
    "outputId": "5eeb6789-764a-4cbf-df5c-6a66d8980f28"
   },
   "outputs": [
    {
     "data": {
      "text/html": [
       "\n",
       "  <div id=\"df-b23377eb-cf8b-4fe5-9c84-473661133fa3\">\n",
       "    <div class=\"colab-df-container\">\n",
       "      <div>\n",
       "<style scoped>\n",
       "    .dataframe tbody tr th:only-of-type {\n",
       "        vertical-align: middle;\n",
       "    }\n",
       "\n",
       "    .dataframe tbody tr th {\n",
       "        vertical-align: top;\n",
       "    }\n",
       "\n",
       "    .dataframe thead th {\n",
       "        text-align: right;\n",
       "    }\n",
       "</style>\n",
       "<table border=\"1\" class=\"dataframe\">\n",
       "  <thead>\n",
       "    <tr style=\"text-align: right;\">\n",
       "      <th></th>\n",
       "      <th>index</th>\n",
       "      <th>token</th>\n",
       "    </tr>\n",
       "  </thead>\n",
       "  <tbody>\n",
       "    <tr>\n",
       "      <th>0</th>\n",
       "      <td>0</td>\n",
       "      <td>процента</td>\n",
       "    </tr>\n",
       "    <tr>\n",
       "      <th>1</th>\n",
       "      <td>1</td>\n",
       "      <td>спортзал</td>\n",
       "    </tr>\n",
       "    <tr>\n",
       "      <th>2</th>\n",
       "      <td>2</td>\n",
       "      <td>осіб</td>\n",
       "    </tr>\n",
       "    <tr>\n",
       "      <th>3</th>\n",
       "      <td>3</td>\n",
       "      <td>токсичных</td>\n",
       "    </tr>\n",
       "    <tr>\n",
       "      <th>4</th>\n",
       "      <td>4</td>\n",
       "      <td>имя</td>\n",
       "    </tr>\n",
       "    <tr>\n",
       "      <th>...</th>\n",
       "      <td>...</td>\n",
       "      <td>...</td>\n",
       "    </tr>\n",
       "    <tr>\n",
       "      <th>266613</th>\n",
       "      <td>266613</td>\n",
       "      <td>края</td>\n",
       "    </tr>\n",
       "    <tr>\n",
       "      <th>266614</th>\n",
       "      <td>266614</td>\n",
       "      <td>негово</td>\n",
       "    </tr>\n",
       "    <tr>\n",
       "      <th>266615</th>\n",
       "      <td>266615</td>\n",
       "      <td>общей</td>\n",
       "    </tr>\n",
       "    <tr>\n",
       "      <th>266616</th>\n",
       "      <td>266616</td>\n",
       "      <td>пътя</td>\n",
       "    </tr>\n",
       "    <tr>\n",
       "      <th>266617</th>\n",
       "      <td>266617</td>\n",
       "      <td>система</td>\n",
       "    </tr>\n",
       "  </tbody>\n",
       "</table>\n",
       "<p>266618 rows × 2 columns</p>\n",
       "</div>\n",
       "      <button class=\"colab-df-convert\" onclick=\"convertToInteractive('df-b23377eb-cf8b-4fe5-9c84-473661133fa3')\"\n",
       "              title=\"Convert this dataframe to an interactive table.\"\n",
       "              style=\"display:none;\">\n",
       "        \n",
       "  <svg xmlns=\"http://www.w3.org/2000/svg\" height=\"24px\"viewBox=\"0 0 24 24\"\n",
       "       width=\"24px\">\n",
       "    <path d=\"M0 0h24v24H0V0z\" fill=\"none\"/>\n",
       "    <path d=\"M18.56 5.44l.94 2.06.94-2.06 2.06-.94-2.06-.94-.94-2.06-.94 2.06-2.06.94zm-11 1L8.5 8.5l.94-2.06 2.06-.94-2.06-.94L8.5 2.5l-.94 2.06-2.06.94zm10 10l.94 2.06.94-2.06 2.06-.94-2.06-.94-.94-2.06-.94 2.06-2.06.94z\"/><path d=\"M17.41 7.96l-1.37-1.37c-.4-.4-.92-.59-1.43-.59-.52 0-1.04.2-1.43.59L10.3 9.45l-7.72 7.72c-.78.78-.78 2.05 0 2.83L4 21.41c.39.39.9.59 1.41.59.51 0 1.02-.2 1.41-.59l7.78-7.78 2.81-2.81c.8-.78.8-2.07 0-2.86zM5.41 20L4 18.59l7.72-7.72 1.47 1.35L5.41 20z\"/>\n",
       "  </svg>\n",
       "      </button>\n",
       "      \n",
       "  <style>\n",
       "    .colab-df-container {\n",
       "      display:flex;\n",
       "      flex-wrap:wrap;\n",
       "      gap: 12px;\n",
       "    }\n",
       "\n",
       "    .colab-df-convert {\n",
       "      background-color: #E8F0FE;\n",
       "      border: none;\n",
       "      border-radius: 50%;\n",
       "      cursor: pointer;\n",
       "      display: none;\n",
       "      fill: #1967D2;\n",
       "      height: 32px;\n",
       "      padding: 0 0 0 0;\n",
       "      width: 32px;\n",
       "    }\n",
       "\n",
       "    .colab-df-convert:hover {\n",
       "      background-color: #E2EBFA;\n",
       "      box-shadow: 0px 1px 2px rgba(60, 64, 67, 0.3), 0px 1px 3px 1px rgba(60, 64, 67, 0.15);\n",
       "      fill: #174EA6;\n",
       "    }\n",
       "\n",
       "    [theme=dark] .colab-df-convert {\n",
       "      background-color: #3B4455;\n",
       "      fill: #D2E3FC;\n",
       "    }\n",
       "\n",
       "    [theme=dark] .colab-df-convert:hover {\n",
       "      background-color: #434B5C;\n",
       "      box-shadow: 0px 1px 3px 1px rgba(0, 0, 0, 0.15);\n",
       "      filter: drop-shadow(0px 1px 2px rgba(0, 0, 0, 0.3));\n",
       "      fill: #FFFFFF;\n",
       "    }\n",
       "  </style>\n",
       "\n",
       "      <script>\n",
       "        const buttonEl =\n",
       "          document.querySelector('#df-b23377eb-cf8b-4fe5-9c84-473661133fa3 button.colab-df-convert');\n",
       "        buttonEl.style.display =\n",
       "          google.colab.kernel.accessAllowed ? 'block' : 'none';\n",
       "\n",
       "        async function convertToInteractive(key) {\n",
       "          const element = document.querySelector('#df-b23377eb-cf8b-4fe5-9c84-473661133fa3');\n",
       "          const dataTable =\n",
       "            await google.colab.kernel.invokeFunction('convertToInteractive',\n",
       "                                                     [key], {});\n",
       "          if (!dataTable) return;\n",
       "\n",
       "          const docLinkHtml = 'Like what you see? Visit the ' +\n",
       "            '<a target=\"_blank\" href=https://colab.research.google.com/notebooks/data_table.ipynb>data table notebook</a>'\n",
       "            + ' to learn more about interactive tables.';\n",
       "          element.innerHTML = '';\n",
       "          dataTable['output_type'] = 'display_data';\n",
       "          await google.colab.output.renderOutput(dataTable, element);\n",
       "          const docLink = document.createElement('div');\n",
       "          docLink.innerHTML = docLinkHtml;\n",
       "          element.appendChild(docLink);\n",
       "        }\n",
       "      </script>\n",
       "    </div>\n",
       "  </div>\n",
       "  "
      ],
      "text/plain": [
       "         index      token\n",
       "0            0   процента\n",
       "1            1   спортзал\n",
       "2            2       осіб\n",
       "3            3  токсичных\n",
       "4            4        имя\n",
       "...        ...        ...\n",
       "266613  266613       края\n",
       "266614  266614     негово\n",
       "266615  266615      общей\n",
       "266616  266616       пътя\n",
       "266617  266617    система\n",
       "\n",
       "[266618 rows x 2 columns]"
      ]
     },
     "execution_count": 22,
     "metadata": {},
     "output_type": "execute_result"
    }
   ],
   "source": [
    "test_prediction_df"
   ]
  },
  {
   "cell_type": "code",
   "execution_count": null,
   "id": "b5e517f9",
   "metadata": {
    "id": "b5e517f9"
   },
   "outputs": [],
   "source": [
    "test_prediction_df[['index', 'token']].to_csv(\"simple_baseline.csv\", index=False)"
   ]
  },
  {
   "cell_type": "code",
   "execution_count": null,
   "id": "LcDK_DodB9UJ",
   "metadata": {
    "id": "LcDK_DodB9UJ"
   },
   "outputs": [],
   "source": []
  }
 ],
 "metadata": {
  "colab": {
   "collapsed_sections": [],
   "name": "predictive_typing.ipynb",
   "provenance": []
  },
  "kernelspec": {
   "display_name": "Python 3",
   "language": "python",
   "name": "python3"
  },
  "language_info": {
   "codemirror_mode": {
    "name": "ipython",
    "version": 3
   },
   "file_extension": ".py",
   "mimetype": "text/x-python",
   "name": "python",
   "nbconvert_exporter": "python",
   "pygments_lexer": "ipython3",
   "version": "3.8.8"
  }
 },
 "nbformat": 4,
 "nbformat_minor": 5
}
